{
 "cells": [
  {
   "cell_type": "markdown",
   "metadata": {
    "editable": false
   },
   "source": [
    "# Tutorial 7: Normal Distribution #\n"
   ]
  },
  {
   "cell_type": "markdown",
   "metadata": {
    "editable": false
   },
   "source": [
    "## Objectives: ##\n",
    "* To become familiar with the R commands used to display a mormal random variable\n",
    "* To become familiar with the R commands used to calculate probabilities using a normal random variable"
   ]
  },
  {
   "cell_type": "markdown",
   "metadata": {
    "editable": false
   },
   "source": [
    "## Instructions: ##\n",
    "* Do NOT round any of the values.\n",
    "* After calculating a probability, in the markdown block, indicate what you have found using approriate probability format AND a sentence. <br> Examples of proper format: \n",
    "  * P(X > 4) = 0.52687495122\n",
    "  * P(Y < 3) = 0.25447898\n",
    "  * P(2 < X < 8) = 0.999587411563\n",
    "* After calculating a value that is not a probability, indicate what you have found with a sentence."
   ]
  },
  {
   "cell_type": "markdown",
   "metadata": {
    "editable": false
   },
   "source": [
    "## Formulae: ##\n",
    "* If  $X$  is a normal random variable with a mean of $\\mu$ and a standard deviation of $\\sigma$ <br>then we write $X \\sim N(\\mu,\\sigma)$. This notation is called the normal short form.\n",
    "* $Z$ represents the standard normal distribution and $Z \\sim N(0,1)$.\n",
    "* The normal probability command `pnorm(`&lt;value&gt; `,` &lt;mean&gt; `,` &lt;sd&gt; `)` is used to determine P(X &lt; value) for a normal random variable with a mean of &lt;mean&gt; and a standard deviation of &lt;sd&gt;. <br>\n",
    "* Recall that for continuous data:\n",
    "  * P(X = value) = 0\n",
    "  * P(X &gt; value) = 1 - P(X &lt; value)\n",
    "  * P(lowVal &lt; X &lt; highVal) = P(X &lt; highVal) - P(X &lt; lowVal)"
   ]
  },
  {
   "cell_type": "markdown",
   "metadata": {
    "editable": false
   },
   "source": [
    "## Tools: ##\n",
    "We have provided you with a custom function called normalplot which will draw a normal curve. \n",
    "* You must run the code cell below before trying to use normalplot.\n",
    "* The command is `normalplot(` &lt;mean&gt; `,` &lt;sd&gt; `)`<br> or `normalplot(` &lt;mean&gt; `,` &lt;sd&gt; `,` &lt;range&gt; `)`.\n",
    "  * &lt;mean&gt; - is the mean of the normal random variable\n",
    "  * &lt;sd&gt; - is the standard deviation of the normal random variable\n",
    "  * &lt;range&gt; - is the region of the curve you wish to shade, this region is given as a range (see R commands so far... for how to make a range)"
   ]
  },
  {
   "cell_type": "code",
   "execution_count": 2,
   "metadata": {
    "editable": false
   },
   "outputs": [],
   "source": [
    "normalplot<-function(m,sd,region=0){\n",
    "  x<-seq(m-(3.5)*sd,m+(3.5)*sd,length=1000)\n",
    "  y<-dnorm(x,m,sd)\n",
    "  plot(x,y,type=\"l\",xlab=\"\",ylab=\"\", bty=\"n\", yaxt=\"n\")\n",
    "  h <- dnorm(m,m,sd)\n",
    "  z<-x[x>region[1]]\n",
    "  z<-z[z<region[2]]\n",
    "  polygon(c(region[1],z,region[2]),\n",
    "          c(0,dnorm(z,m,sd),0),col=\"gray\")\n",
    "  abline(v=m)\n",
    "  abline(h=0)}"
   ]
  },
  {
   "cell_type": "markdown",
   "metadata": {
    "editable": false
   },
   "source": [
    "## Data Information: ##\n",
    "Suppose a large population of children has a mean IQ score of 99.5 points and a standard deviation of 21.7 points.<br>\n",
    "Let $X$ represent the IQ of a child randomly selected from this population. "
   ]
  },
  {
   "cell_type": "markdown",
   "metadata": {
    "editable": false
   },
   "source": [
    "## Question 1. Representing the normal distribution ##"
   ]
  },
  {
   "cell_type": "markdown",
   "metadata": {
    "editable": false
   },
   "source": [
    "* a. Use the normal short form to describe $X$.\n",
    "* b. Draw the distribution of $X$ (use the normalplot command described in the Tools section)."
   ]
  },
  {
   "cell_type": "markdown",
   "metadata": {
    "editable": false
   },
   "source": [
    "### Answer 1.a. ##"
   ]
  },
  {
   "cell_type": "markdown",
   "metadata": {},
   "source": [
    "Write your answer here."
   ]
  },
  {
   "cell_type": "markdown",
   "metadata": {
    "editable": false
   },
   "source": [
    "### Answer 1.b. ##"
   ]
  },
  {
   "cell_type": "code",
   "execution_count": null,
   "metadata": {},
   "outputs": [],
   "source": [
    "This is a code cell."
   ]
  },
  {
   "cell_type": "markdown",
   "metadata": {
    "editable": false
   },
   "source": [
    "## Question 2. Calculating probabilities ##\n",
    "The command `pnorm(` &lt;value&gt; `,` &lt;mean&gt; `,` &lt;sd&gt; `)` is used to determine P(X &lt; value) using the normal probability function<br>with\n",
    "* &lt;value&gt;  - is the value of interest\n",
    "* &lt;mean&gt;  - is the mean of the normal distribution\n",
    "* &lt;sd&gt;  - is the standard deviation of the normal distribution"
   ]
  },
  {
   "cell_type": "markdown",
   "metadata": {
    "editable": false
   },
   "source": [
    "For each part, draw the normal distribution with the area of interest shaded then calculate the probability.\n",
    "* a. What is the probability that a child has an IQ is less than 105? \n",
    "* b. What is the probability that a child has an IQ is above 110?\n",
    "* c. What is the probability that a child has an IQ is between 95 and 130?"
   ]
  },
  {
   "cell_type": "markdown",
   "metadata": {
    "editable": false
   },
   "source": [
    "### Answer 2.a. ##"
   ]
  },
  {
   "cell_type": "code",
   "execution_count": null,
   "metadata": {},
   "outputs": [],
   "source": [
    "Draw the distribution with the area of interest shaded."
   ]
  },
  {
   "cell_type": "code",
   "execution_count": null,
   "metadata": {},
   "outputs": [],
   "source": [
    "Calculate the probability."
   ]
  },
  {
   "cell_type": "markdown",
   "metadata": {},
   "source": [
    "Write the probability in the proper format and write a sentence describing what you have found."
   ]
  },
  {
   "cell_type": "markdown",
   "metadata": {
    "editable": false
   },
   "source": [
    "### Answer 2.b. ##"
   ]
  },
  {
   "cell_type": "code",
   "execution_count": null,
   "metadata": {},
   "outputs": [],
   "source": [
    "Draw the distribution with the area of interest shaded."
   ]
  },
  {
   "cell_type": "code",
   "execution_count": null,
   "metadata": {},
   "outputs": [],
   "source": [
    "Calculate the probability."
   ]
  },
  {
   "cell_type": "markdown",
   "metadata": {},
   "source": [
    "Write the probability in the proper format and write a sentence describing what you have found."
   ]
  },
  {
   "cell_type": "markdown",
   "metadata": {
    "editable": false
   },
   "source": [
    "### Answer 2.c. ##"
   ]
  },
  {
   "cell_type": "code",
   "execution_count": null,
   "metadata": {},
   "outputs": [],
   "source": [
    "Draw the distribution with the area of interest shaded."
   ]
  },
  {
   "cell_type": "code",
   "execution_count": null,
   "metadata": {},
   "outputs": [],
   "source": [
    "Calculate the probability."
   ]
  },
  {
   "cell_type": "markdown",
   "metadata": {},
   "source": [
    "Write the probability in the proper format and write a sentence describing what you have found."
   ]
  },
  {
   "cell_type": "markdown",
   "metadata": {
    "editable": false
   },
   "source": [
    "## Question 3. Verifying the 68-95-99.7 rule ##\n"
   ]
  },
  {
   "cell_type": "markdown",
   "metadata": {
    "editable": false
   },
   "source": [
    "Use $Z$ to verify the 68-95-99.7 rule by shading the appropriate area under the curve then finding the indicated value. \n",
    "* a. Determine the probability that $Z$ is within 1 standard deviation of the mean. \n",
    "* b. Determine the probability that $Z$ is within 2 standard deviations of the mean. \n",
    "* c. Determine the probability that $Z$ is within 3 standard deviations of the mean. "
   ]
  },
  {
   "cell_type": "markdown",
   "metadata": {
    "editable": false
   },
   "source": [
    "### Answer 3.a. ##"
   ]
  },
  {
   "cell_type": "code",
   "execution_count": null,
   "metadata": {},
   "outputs": [],
   "source": [
    "Draw the distribution with the area of interest shaded."
   ]
  },
  {
   "cell_type": "code",
   "execution_count": null,
   "metadata": {},
   "outputs": [],
   "source": [
    "Calculate the desired value."
   ]
  },
  {
   "cell_type": "markdown",
   "metadata": {
    "editable": false
   },
   "source": [
    "### Answer 3.b. ##"
   ]
  },
  {
   "cell_type": "code",
   "execution_count": null,
   "metadata": {},
   "outputs": [],
   "source": [
    "Draw the distribution with the area of interest shaded."
   ]
  },
  {
   "cell_type": "code",
   "execution_count": null,
   "metadata": {},
   "outputs": [],
   "source": [
    "Calculate the desired value."
   ]
  },
  {
   "cell_type": "markdown",
   "metadata": {
    "editable": false
   },
   "source": [
    "### Answer 3.c. ##"
   ]
  },
  {
   "cell_type": "code",
   "execution_count": null,
   "metadata": {},
   "outputs": [],
   "source": [
    "Draw the distribution with the area of interest shaded."
   ]
  },
  {
   "cell_type": "code",
   "execution_count": null,
   "metadata": {},
   "outputs": [],
   "source": [
    "Calculate the desired value."
   ]
  },
  {
   "cell_type": "markdown",
   "metadata": {
    "editable": false
   },
   "source": [
    "---\n",
    "---\n",
    "#### This tutorial is released under a Creative Commons Attribution-ShareAlike 3.0 Unported.\n",
    "\n",
    "This tutorial has been adapted from a lab that  was adapted for OpenIntro by Andrew Bray and Mine Çetinkaya-Rundel from a lab written by Mark Hansen of UCLA Statistics.\n",
    "\n",
    "---\n",
    "---"
   ]
  }
 ],
 "metadata": {
  "kernelspec": {
   "display_name": "R",
   "language": "R",
   "name": "ir"
  },
  "language_info": {
   "codemirror_mode": "r",
   "file_extension": ".r",
   "mimetype": "text/x-r-source",
   "name": "R",
   "pygments_lexer": "r",
   "version": "3.6.1"
  }
 },
 "nbformat": 4,
 "nbformat_minor": 2
}
